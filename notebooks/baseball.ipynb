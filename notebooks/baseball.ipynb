{
 "cells": [
  {
   "cell_type": "markdown",
   "metadata": {},
   "source": [
    "# Baseball batting average estimation\n",
    "\n",
    "One of the primary goals in sports analytics is separating talent or skill from random chance when interpreting observed outcomes. While we ultimately care about outcomes (games won, points scored, base hits), it is only the skill associated with the player or team that is useful in predicting future outcomes. This is certainly the case in baseball, where even very good players can have lengthy spells without getting a hit, and likewise, below-average players can go on hitting streaks.\n",
    "\n",
    "The following example, taken from Efron and Morris (1975) illustrates this point: the data comprise 18 batters that have, by a particular date in the 1970 season, accumulated 45 at bats (chances to get a hit). The number of hits range from 7 to 18. Yet, how can we be sure that the players with more hits are more skilled than those with fewer? We can use a Bayesian modeling approach to estimate the batting averages (the expected proportion of at bats that result in hits) for the players, using partial pooling to adjust extreme values, thereby hedging our bets where luck may have been at play."
   ]
  },
  {
   "cell_type": "code",
   "execution_count": 1,
   "metadata": {},
   "outputs": [
    {
     "name": "stdout",
     "output_type": "stream",
     "text": [
      "WARNING:tensorflow:Falling back to tensorflow client, its recommended to install the cloud tpu client directly with pip install cloud-tpu-client .\n"
     ]
    }
   ],
   "source": [
    "import arviz as az\n",
    "import pymc4 as pm\n",
    "import tensorflow as tf\n",
    "import pandas as pd"
   ]
  },
  {
   "cell_type": "code",
   "execution_count": 2,
   "metadata": {},
   "outputs": [],
   "source": [
    "data = pd.read_csv('data/efron-morris-75-data.tsv', sep=\"\\t\")\n",
    "at_bats, hits = data[['At-Bats', 'Hits']].values.T"
   ]
  },
  {
   "cell_type": "code",
   "execution_count": 3,
   "metadata": {},
   "outputs": [
    {
     "data": {
      "text/html": [
       "<div>\n",
       "<style scoped>\n",
       "    .dataframe tbody tr th:only-of-type {\n",
       "        vertical-align: middle;\n",
       "    }\n",
       "\n",
       "    .dataframe tbody tr th {\n",
       "        vertical-align: top;\n",
       "    }\n",
       "\n",
       "    .dataframe thead th {\n",
       "        text-align: right;\n",
       "    }\n",
       "</style>\n",
       "<table border=\"1\" class=\"dataframe\">\n",
       "  <thead>\n",
       "    <tr style=\"text-align: right;\">\n",
       "      <th></th>\n",
       "      <th>FirstName</th>\n",
       "      <th>LastName</th>\n",
       "      <th>At-Bats</th>\n",
       "      <th>Hits</th>\n",
       "    </tr>\n",
       "  </thead>\n",
       "  <tbody>\n",
       "    <tr>\n",
       "      <th>0</th>\n",
       "      <td>Roberto</td>\n",
       "      <td>Clemente</td>\n",
       "      <td>45</td>\n",
       "      <td>18</td>\n",
       "    </tr>\n",
       "    <tr>\n",
       "      <th>1</th>\n",
       "      <td>Frank</td>\n",
       "      <td>Robinson</td>\n",
       "      <td>45</td>\n",
       "      <td>17</td>\n",
       "    </tr>\n",
       "    <tr>\n",
       "      <th>2</th>\n",
       "      <td>Frank</td>\n",
       "      <td>Howard</td>\n",
       "      <td>45</td>\n",
       "      <td>16</td>\n",
       "    </tr>\n",
       "    <tr>\n",
       "      <th>3</th>\n",
       "      <td>Jay</td>\n",
       "      <td>Johnstone</td>\n",
       "      <td>45</td>\n",
       "      <td>15</td>\n",
       "    </tr>\n",
       "    <tr>\n",
       "      <th>4</th>\n",
       "      <td>Ken</td>\n",
       "      <td>Berry</td>\n",
       "      <td>45</td>\n",
       "      <td>14</td>\n",
       "    </tr>\n",
       "  </tbody>\n",
       "</table>\n",
       "</div>"
      ],
      "text/plain": [
       "  FirstName   LastName  At-Bats  Hits\n",
       "0   Roberto   Clemente       45    18\n",
       "1     Frank   Robinson       45    17\n",
       "2     Frank     Howard       45    16\n",
       "3       Jay  Johnstone       45    15\n",
       "4       Ken      Berry       45    14"
      ]
     },
     "execution_count": 3,
     "metadata": {},
     "output_type": "execute_result"
    }
   ],
   "source": [
    "data.iloc[:, :4].head()"
   ]
  },
  {
   "cell_type": "markdown",
   "metadata": {},
   "source": [
    "Since batting data can be modeled as a Binomial process, with the number of at bats as the sample size and the number of hits as the count of events. The naive approach to estimating the latent batting average for each player would be to assign independent priors for each player, but this would not do an adequate job of accounting for luck for players with extreme numbers of events. Instead, we want to constrain the hit probabilities by modeling the population of batting averages, using a hierarchical model.\n",
    "\n",
    "A natural hierarchical model for binomial probabilities is the beta distribution. Here, we will use a reparameterization of the beta, which uses the mean probability ($\\phi$) and variance ($\\kappa$), which are related to the shape and scale parameters more commonly used with beta distributions as follows:\n",
    "\n",
    "$$\\alpha = \\phi \\kappa$$\n",
    "\n",
    "$$\\beta = (1 - \\phi) \\kappa$$\n",
    "\n",
    "Here is the hierarchical binomial model in PyMC4:"
   ]
  },
  {
   "cell_type": "code",
   "execution_count": 4,
   "metadata": {},
   "outputs": [],
   "source": [
    "N = len(hits)\n",
    "\n",
    "@pm.model\n",
    "def baseball_model():\n",
    "    # Population mean batting average\n",
    "    phi = yield pm.Uniform(\"phi\", 0, 1)\n",
    "    \n",
    "    # Population batting average variance\n",
    "    kappa_log = yield pm.Exponential('kappa_log', rate=1.5)\n",
    "    kappa = yield pm.Deterministic('kappa', tf.math.exp(kappa_log))\n",
    "    \n",
    "    # Latent batting average for each player\n",
    "    thetas = yield pm.Beta('thetas', phi * kappa, (1 - phi) * kappa, plate=N)\n",
    "    y = yield pm.Binomial('y', total_count=tf.constant(at_bats, dtype=tf.float32), probs=thetas, observed=tf.constant(hits, dtype=tf.float32))"
   ]
  },
  {
   "cell_type": "code",
   "execution_count": 5,
   "metadata": {},
   "outputs": [
    {
     "name": "stdout",
     "output_type": "stream",
     "text": [
      "CPU times: user 2min 2s, sys: 12.5 s, total: 2min 14s\n",
      "Wall time: 1min 34s\n"
     ]
    }
   ],
   "source": [
    "%time trace =  pm.inference.utils.trace_to_arviz(*pm.inference.sampling.sample(baseball_model(), num_chains=128))"
   ]
  },
  {
   "cell_type": "markdown",
   "metadata": {},
   "source": [
    "If we plot the posterior estimates alongside the maximum likelihood estimates, we can see the shrinkage that the hierarchical model has imposed. The highest batting averages are still the largest, but are not unrealistically large (there has not been a .400 hitter since the 1940s), while the lowest averages are similarly pulled toward the population mean."
   ]
  },
  {
   "cell_type": "code",
   "execution_count": 6,
   "metadata": {},
   "outputs": [
    {
     "data": {
      "image/png": "[encoded data removed]",
      "text/plain": [
       "<Figure size 432x417.6 with 1 Axes>"
      ]
     },
     "metadata": {
      "needs_background": "light"
     },
     "output_type": "display_data"
    }
   ],
   "source": [
    "player_names = data.apply(lambda x: x.FirstName + ' ' + x.LastName, axis=1)\n",
    "ax = az.plot_forest(trace, var_names='baseball_model/thetas', combined=True)\n",
    "ax[0].set_yticklabels(player_names.tolist()[-1::-1])\n",
    "ax[0].plot((hits/at_bats)[::-1], ax[0].get_yticks(), 'ro');"
   ]
  },
  {
   "cell_type": "markdown",
   "metadata": {},
   "source": [
    "We can also look at other interesting posterior quantities. For example, what's the probability the batter with the highest average (Roberto Clemente) has a true hit probability that is higher than the batter with the lowest average (Max Alvis)."
   ]
  },
  {
   "cell_type": "code",
   "execution_count": 7,
   "metadata": {},
   "outputs": [],
   "source": [
    "clemente = trace.posterior['baseball_model/thetas'].values[..., 0].flatten()\n",
    "alvis = trace.posterior['baseball_model/thetas'].values[..., -1].flatten()"
   ]
  },
  {
   "cell_type": "code",
   "execution_count": 8,
   "metadata": {},
   "outputs": [
    {
     "data": {
      "text/plain": [
       "0.94215625"
      ]
     },
     "execution_count": 8,
     "metadata": {},
     "output_type": "execute_result"
    }
   ],
   "source": [
    "(clemente > alvis).mean()"
   ]
  },
  {
   "cell_type": "markdown",
   "metadata": {},
   "source": [
    "So, we are confident that Clemente (who is in the baseball Hall of Fame) is a better hitter than Alvis. In fact, at the end of the 1970 season Clemente had a .352 batting average (in 412 at bats) while Alvis finished with a .183 average (115 at bats)."
   ]
  }
 ],
 "metadata": {
  "kernelspec": {
   "display_name": "Python 3",
   "language": "python",
   "name": "python3"
  },
  "language_info": {
   "codemirror_mode": {
    "name": "ipython",
    "version": 3
   },
   "file_extension": ".py",
   "mimetype": "text/x-python",
   "name": "python",
   "nbconvert_exporter": "python",
   "pygments_lexer": "ipython3",
   "version": "3.7.5"
  }
 },
 "nbformat": 4,
 "nbformat_minor": 4
}
